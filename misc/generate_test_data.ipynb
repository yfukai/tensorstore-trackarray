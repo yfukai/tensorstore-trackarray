{
 "cells": [
  {
   "cell_type": "code",
   "execution_count": 7,
   "metadata": {},
   "outputs": [],
   "source": [
    "from copy import deepcopy"
   ]
  },
  {
   "cell_type": "code",
   "execution_count": 14,
   "metadata": {},
   "outputs": [
    {
     "data": {
      "text/plain": [
       "<Labels layer 'original_labels' at 0x111d43390>"
      ]
     },
     "execution_count": 14,
     "metadata": {},
     "output_type": "execute_result"
    }
   ],
   "source": [
    "import numpy as np\n",
    "import napari\n",
    "import json\n",
    "from pathlib import Path\n",
    "\n",
    "viewer = napari.Viewer()\n",
    "\n",
    "basedir = Path(\"../tests/data/test_labels\")\n",
    "labels = np.load(basedir/\"original_labels.npy\")\n",
    "with open(basedir/\"original_split_dict.json\", \"r\") as f:\n",
    "    split_dict = json.load(f, object_hook=lambda d:{int(key): [int(v) for v in value] \n",
    "                                                    for key, value in d.items()})\n",
    "\n",
    "viewer.add_labels(labels, name=\"original_labels\")"
   ]
  },
  {
   "cell_type": "code",
   "execution_count": 2,
   "metadata": {},
   "outputs": [
    {
     "name": "stdout",
     "output_type": "stream",
     "text": [
      "{7: [10, 9], 8: [12, 11], 9: [17, 16]}\n"
     ]
    }
   ],
   "source": [
    "print(split_dict)"
   ]
  },
  {
   "cell_type": "code",
   "execution_count": 4,
   "metadata": {},
   "outputs": [
    {
     "data": {
      "text/plain": [
       "<Labels layer 'frame4_divide8_change_before_to_20' at 0x2baaec690>"
      ]
     },
     "execution_count": 4,
     "metadata": {},
     "output_type": "execute_result"
    },
    {
     "name": "stderr",
     "output_type": "stream",
     "text": [
      "2025-01-15 11:22:30.800 Python[19335:97247158] TSM AdjustCapsLockLEDForKeyTransitionHandling - _ISSetPhysicalKeyboardCapsLockLED Inhibit\n"
     ]
    }
   ],
   "source": [
    "viewer.add_labels(labels.copy(), name=\"frame3_divide8_change_after_to_5\")\n",
    "viewer.add_labels(labels.copy(), name=\"frame3_divide8_change_after_to_20\")\n",
    "viewer.add_labels(labels.copy(), name=\"frame4_divide8_change_before_to_5\")\n",
    "viewer.add_labels(labels.copy(), name=\"frame4_divide8_change_before_to_20\")\n",
    "viewer.add_labels(labels.copy(), name=\"frame3_divide8_change_before_to_5\")\n",
    "viewer.add_labels(labels.copy(), name=\"frame3_divide8_change_before_to_20\")"
   ]
  },
  {
   "cell_type": "markdown",
   "metadata": {},
   "source": [
    "(manually modify the tracks)"
   ]
  },
  {
   "cell_type": "code",
   "execution_count": 9,
   "metadata": {},
   "outputs": [],
   "source": [
    "for layer in viewer.layers:\n",
    "    if layer.name == \"original_labels\":\n",
    "        continue\n",
    "    d = layer.data\n",
    "    name = layer.name\n",
    "    np.save(basedir/f\"{name}_labels.npy\", d)\n",
    "    split_dict2 = deepcopy(split_dict)\n",
    "    if \"frame4\" in name and \"before\" in name:\n",
    "        del split_dict2[8]\n",
    "    elif \"after\" in name:\n",
    "        changed_to = int(name.split(\"_\")[-1])\n",
    "        split_dict2[changed_to] = split_dict2.pop(8)\n",
    "    with open(basedir/f\"{name}_split_dict.json\", \"w\") as f:\n",
    "        json.dump(split_dict2, f)"
   ]
  },
  {
   "cell_type": "code",
   "execution_count": 11,
   "metadata": {},
   "outputs": [
    {
     "data": {
      "text/plain": [
       "<Labels layer 'frame4_divide11_change_before_to_20' at 0x2b2f4ca50>"
      ]
     },
     "execution_count": 11,
     "metadata": {},
     "output_type": "execute_result"
    }
   ],
   "source": [
    "viewer.add_labels(labels.copy(), name=\"frame5_divide11_change_after_to_20\")\n",
    "viewer.add_labels(labels.copy(), name=\"frame5_divide11_change_before_to_20\")\n",
    "viewer.add_labels(labels.copy(), name=\"frame4_divide11_change_after_to_20\")\n",
    "viewer.add_labels(labels.copy(), name=\"frame4_divide11_change_before_to_20\")"
   ]
  },
  {
   "cell_type": "code",
   "execution_count": 12,
   "metadata": {},
   "outputs": [],
   "source": [
    "for layer in viewer.layers:\n",
    "    if layer.name == \"original_labels\":\n",
    "        continue\n",
    "    d = layer.data\n",
    "    name = layer.name\n",
    "    np.save(basedir/f\"{name}_labels.npy\", d)\n",
    "    split_dict2 = deepcopy(split_dict)\n",
    "    if \"frame4\" in name:\n",
    "        split_dict2[8] = [12]\n",
    "    elif \"before\" in name:\n",
    "        split_dict2[8] = [12,20]\n",
    "    with open(basedir/f\"{name}_split_dict.json\", \"w\") as f:\n",
    "        json.dump(split_dict2, f)"
   ]
  },
  {
   "cell_type": "code",
   "execution_count": 15,
   "metadata": {},
   "outputs": [
    {
     "data": {
      "text/plain": [
       "<Labels layer 'frame7_3split_to_18_and_20_labels' at 0x111f12210>"
      ]
     },
     "execution_count": 15,
     "metadata": {},
     "output_type": "execute_result"
    }
   ],
   "source": [
    "labels = np.load(basedir/\"frame7_3split_to_18_and_20_labels.npy\")\n",
    "viewer.add_labels(labels, name=\"frame7_3split_to_18_and_20_labels\")"
   ]
  },
  {
   "cell_type": "code",
   "execution_count": null,
   "metadata": {},
   "outputs": [],
   "source": []
  }
 ],
 "metadata": {
  "kernelspec": {
   "display_name": ".venv",
   "language": "python",
   "name": "python3"
  },
  "language_info": {
   "codemirror_mode": {
    "name": "ipython",
    "version": 3
   },
   "file_extension": ".py",
   "mimetype": "text/x-python",
   "name": "python",
   "nbconvert_exporter": "python",
   "pygments_lexer": "ipython3",
   "version": "3.13.1"
  }
 },
 "nbformat": 4,
 "nbformat_minor": 2
}
