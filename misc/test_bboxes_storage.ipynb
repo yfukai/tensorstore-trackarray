{
 "cells": [
  {
   "cell_type": "code",
   "execution_count": 1,
   "metadata": {},
   "outputs": [],
   "source": [
    "import numpy as np\n",
    "from skimage.draw import disk\n",
    "import tensorstore_trackarray as tta\n",
    "\n",
    "def circular_blob_image(frame_count, image_size, num_blobs, blob_diameter, dtype):\n",
    "    image = np.zeros((frame_count, image_size, image_size), dtype=dtype)\n",
    "    radius = blob_diameter // 2\n",
    "    for frame in range(frame_count):\n",
    "        for i in range(num_blobs):\n",
    "            # Randomly select the center of the circle\n",
    "            center_x = np.random.randint(radius, image.shape[1] - radius)\n",
    "            center_y = np.random.randint(radius, image.shape[2] - radius)\n",
    "\n",
    "            # Get the coordinates of the circle\n",
    "            rr, cc = disk((center_x, center_y), radius, shape=image.shape[1:])\n",
    "\n",
    "            # Draw the circle\n",
    "            image[frame, rr, cc] = i\n",
    "    return image \n",
    "labels = circular_blob_image(10, 8192*2, 3000, 30, np.uint16)\n",
    "bboxes_df = tta.to_bbox_df(labels)"
   ]
  },
  {
   "cell_type": "code",
   "execution_count": 2,
   "metadata": {},
   "outputs": [],
   "source": [
    "bboxes_df.to_csv('bboxes.csv', index=False)"
   ]
  },
  {
   "cell_type": "code",
   "execution_count": 9,
   "metadata": {},
   "outputs": [
    {
     "name": "stdout",
     "output_type": "stream",
     "text": [
      "413 μs ± 14.9 μs per loop (mean ± std. dev. of 7 runs, 1,000 loops each)\n"
     ]
    }
   ],
   "source": [
    "%timeit bboxes_df[bboxes_df.index.get_level_values('label') == 1].reset_index()"
   ]
  },
  {
   "cell_type": "code",
   "execution_count": 7,
   "metadata": {},
   "outputs": [],
   "source": [
    "bboxes_df2=bboxes_df.reset_index().set_index([\"label\",\"frame\"])"
   ]
  },
  {
   "cell_type": "code",
   "execution_count": 10,
   "metadata": {},
   "outputs": [
    {
     "name": "stdout",
     "output_type": "stream",
     "text": [
      "117 μs ± 4.88 μs per loop (mean ± std. dev. of 7 runs, 10,000 loops each)\n"
     ]
    }
   ],
   "source": [
    "%timeit bboxes_df2.loc[1]"
   ]
  },
  {
   "cell_type": "code",
   "execution_count": 11,
   "metadata": {},
   "outputs": [],
   "source": [
    "bboxes_data = {label:grp for label, grp in bboxes_df.reset_index().groupby(\"label\")}"
   ]
  },
  {
   "cell_type": "code",
   "execution_count": 12,
   "metadata": {},
   "outputs": [
    {
     "name": "stdout",
     "output_type": "stream",
     "text": [
      "49.8 ns ± 21.5 ns per loop (mean ± std. dev. of 7 runs, 10,000,000 loops each)\n"
     ]
    }
   ],
   "source": [
    "%timeit bboxes_data[1]"
   ]
  },
  {
   "cell_type": "code",
   "execution_count": null,
   "metadata": {},
   "outputs": [],
   "source": [
    "def get_bboxes(label):\n",
    "    "
   ]
  }
 ],
 "metadata": {
  "kernelspec": {
   "display_name": ".venv",
   "language": "python",
   "name": "python3"
  },
  "language_info": {
   "codemirror_mode": {
    "name": "ipython",
    "version": 3
   },
   "file_extension": ".py",
   "mimetype": "text/x-python",
   "name": "python",
   "nbconvert_exporter": "python",
   "pygments_lexer": "ipython3",
   "version": "3.13.1"
  }
 },
 "nbformat": 4,
 "nbformat_minor": 2
}
